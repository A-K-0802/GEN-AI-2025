{
  "nbformat": 4,
  "nbformat_minor": 0,
  "metadata": {
    "colab": {
      "provenance": [],
      "authorship_tag": "ABX9TyNiOnu9vbaCN5kVLhQBiW67",
      "include_colab_link": true
    },
    "kernelspec": {
      "name": "python3",
      "display_name": "Python 3"
    },
    "language_info": {
      "name": "python"
    }
  },
  "cells": [
    {
      "cell_type": "markdown",
      "metadata": {
        "id": "view-in-github",
        "colab_type": "text"
      },
      "source": [
        "<a href=\"https://colab.research.google.com/github/A-K-0802/GEN-AI-2025/blob/main/Currency_converter_AI.ipynb\" target=\"_parent\"><img src=\"https://colab.research.google.com/assets/colab-badge.svg\" alt=\"Open In Colab\"/></a>"
      ]
    },
    {
      "cell_type": "code",
      "execution_count": 121,
      "metadata": {
        "id": "zdAZjgwoUR5Z"
      },
      "outputs": [],
      "source": [
        "!pip install -q -U langchain-google-genai langchain-core requests"
      ]
    },
    {
      "cell_type": "code",
      "source": [
        "from langchain_google_genai import ChatGoogleGenerativeAI\n",
        "import  os\n",
        "from google.colab import userdata\n",
        "os.environ[\"GOOGLE_API_KEY\"]=userdata.get(\"GOOGLE_API_KEY\")\n",
        "\n",
        "llm=ChatGoogleGenerativeAI(\n",
        "    model=\"gemini-2.5-flash\"\n",
        ")"
      ],
      "metadata": {
        "id": "MhYvSiL3Ucm_"
      },
      "execution_count": 122,
      "outputs": []
    },
    {
      "cell_type": "code",
      "source": [
        "from langchain_core.tools import tool\n",
        "from langchain_core.tools import InjectedToolArg\n",
        "from typing import Annotated\n",
        "import requests\n",
        "@tool\n",
        "def get_conversion_rates(base_currency: str, target_currency:str) -> float:\n",
        "    \"\"\"Get conversion rates for a given base currency to given target currency.\"\"\"\n",
        "    url=f\"https://v6.exchangerate-api.com/v6/85e9dcbfe0931ec9d8a57b16/pair/{base_currency}/{target_currency}\"\n",
        "    response=requests.get(url)\n",
        "    return response.json()\n",
        "\n",
        "\n",
        "\n",
        "@tool\n",
        "def convert(base_value:int,conversion_rate:Annotated[float,InjectedToolArg])->float:\n",
        "  \"\"\"Given a currency conversion rate this function calculates the target currency value from a given base currency value\"\"\"\n",
        "  return base_value*conversion_rate\n",
        "\n"
      ],
      "metadata": {
        "id": "bRdwxDI4UnTV"
      },
      "execution_count": 123,
      "outputs": []
    },
    {
      "cell_type": "code",
      "source": [
        "output=get_conversion_rates.invoke({'base_currency':'USD','target_currency':'INR'})\n",
        "output"
      ],
      "metadata": {
        "colab": {
          "base_uri": "https://localhost:8080/"
        },
        "id": "MQJDTkXCbFPS",
        "outputId": "c2e366d3-0e91-4776-cbcc-973db75a8cf2"
      },
      "execution_count": 124,
      "outputs": [
        {
          "output_type": "execute_result",
          "data": {
            "text/plain": [
              "{'result': 'success',\n",
              " 'documentation': 'https://www.exchangerate-api.com/docs',\n",
              " 'terms_of_use': 'https://www.exchangerate-api.com/terms',\n",
              " 'time_last_update_unix': 1750291201,\n",
              " 'time_last_update_utc': 'Thu, 19 Jun 2025 00:00:01 +0000',\n",
              " 'time_next_update_unix': 1750377601,\n",
              " 'time_next_update_utc': 'Fri, 20 Jun 2025 00:00:01 +0000',\n",
              " 'base_code': 'USD',\n",
              " 'target_code': 'INR',\n",
              " 'conversion_rate': 86.4882}"
            ]
          },
          "metadata": {},
          "execution_count": 124
        }
      ]
    },
    {
      "cell_type": "code",
      "source": [
        "convert.invoke({'base_value':10,'conversion_rate':86.18})"
      ],
      "metadata": {
        "colab": {
          "base_uri": "https://localhost:8080/"
        },
        "id": "cuoIZz5xX2L4",
        "outputId": "183b3e79-2ad0-48c4-9b89-e7003da54e53"
      },
      "execution_count": 125,
      "outputs": [
        {
          "output_type": "execute_result",
          "data": {
            "text/plain": [
              "861.8000000000001"
            ]
          },
          "metadata": {},
          "execution_count": 125
        }
      ]
    },
    {
      "cell_type": "code",
      "source": [
        "llm_with_tools=llm.bind_tools([get_conversion_rates,convert])\n"
      ],
      "metadata": {
        "id": "hH5ogDa8X-oq"
      },
      "execution_count": 126,
      "outputs": []
    },
    {
      "cell_type": "code",
      "source": [
        "from langchain_core.messages import HumanMessage\n",
        "messages=[HumanMessage(\"What is conversion factor between USD and INR and based on that CONVERT 10 USD to INR\")]"
      ],
      "metadata": {
        "id": "OiZ-4e1nYGSi"
      },
      "execution_count": 127,
      "outputs": []
    },
    {
      "cell_type": "code",
      "source": [
        "response=llm_with_tools.invoke(messages)\n",
        "messages.append(response)\n",
        "response.tool_calls"
      ],
      "metadata": {
        "colab": {
          "base_uri": "https://localhost:8080/"
        },
        "id": "FzInnkKXYWP_",
        "outputId": "b152f1ea-93a2-49a3-9d92-211d46ca371c"
      },
      "execution_count": 128,
      "outputs": [
        {
          "output_type": "execute_result",
          "data": {
            "text/plain": [
              "[{'name': 'get_conversion_rates',\n",
              "  'args': {'target_currency': 'INR', 'base_currency': 'USD'},\n",
              "  'id': '27ce616b-724e-4ade-99a0-d37fe119f340',\n",
              "  'type': 'tool_call'}]"
            ]
          },
          "metadata": {},
          "execution_count": 128
        }
      ]
    },
    {
      "cell_type": "code",
      "source": [
        "import json\n",
        "for toolcall in response.tool_calls:\n",
        "  if toolcall['name']==\"get_conversion_rates\":\n",
        "    tool_message1=get_conversion_rates.invoke(toolcall)\n",
        "    conv_rate=json.loads(tool_message1.content)['conversion_rate']\n",
        "    messages.append(tool_message1)\n",
        "  if toolcall['name']==\"convert\":\n",
        "    toolcall['args']['conversion_rate']=conv_rate\n",
        "    tool_message2=convert.invoke(toolcall)\n",
        "    messages.append(tool_message2)\n"
      ],
      "metadata": {
        "id": "3cL2OocRZovz"
      },
      "execution_count": 129,
      "outputs": []
    },
    {
      "cell_type": "code",
      "source": [
        "messages"
      ],
      "metadata": {
        "colab": {
          "base_uri": "https://localhost:8080/"
        },
        "id": "7xBPOUT-dDOw",
        "outputId": "21be1165-c5b0-4b9d-91b3-8cce83c8534f"
      },
      "execution_count": 130,
      "outputs": [
        {
          "output_type": "execute_result",
          "data": {
            "text/plain": [
              "[HumanMessage(content='What is conversion factor between USD and INR and based on that CONVERT 10 USD to INR', additional_kwargs={}, response_metadata={}),\n",
              " AIMessage(content='', additional_kwargs={'function_call': {'name': 'get_conversion_rates', 'arguments': '{\"target_currency\": \"INR\", \"base_currency\": \"USD\"}'}}, response_metadata={'prompt_feedback': {'block_reason': 0, 'safety_ratings': []}, 'finish_reason': 'STOP', 'model_name': 'models/gemini-2.5-flash-preview-05-20', 'safety_ratings': []}, id='run--e4510581-214f-4975-b9fd-805350446186-0', tool_calls=[{'name': 'get_conversion_rates', 'args': {'target_currency': 'INR', 'base_currency': 'USD'}, 'id': '27ce616b-724e-4ade-99a0-d37fe119f340', 'type': 'tool_call'}], usage_metadata={'input_tokens': 139, 'output_tokens': 26, 'total_tokens': 297, 'input_token_details': {'cache_read': 0}, 'output_token_details': {'reasoning': 132}}),\n",
              " ToolMessage(content='{\"result\": \"success\", \"documentation\": \"https://www.exchangerate-api.com/docs\", \"terms_of_use\": \"https://www.exchangerate-api.com/terms\", \"time_last_update_unix\": 1750291201, \"time_last_update_utc\": \"Thu, 19 Jun 2025 00:00:01 +0000\", \"time_next_update_unix\": 1750377601, \"time_next_update_utc\": \"Fri, 20 Jun 2025 00:00:01 +0000\", \"base_code\": \"USD\", \"target_code\": \"INR\", \"conversion_rate\": 86.4882}', name='get_conversion_rates', tool_call_id='27ce616b-724e-4ade-99a0-d37fe119f340')]"
            ]
          },
          "metadata": {},
          "execution_count": 130
        }
      ]
    },
    {
      "cell_type": "code",
      "source": [
        "llm_with_tools.invoke(messages).content"
      ],
      "metadata": {
        "colab": {
          "base_uri": "https://localhost:8080/",
          "height": 36
        },
        "id": "3bu3KO5idNI9",
        "outputId": "db495f29-a92f-4236-dc4b-13ddb96d6228"
      },
      "execution_count": 131,
      "outputs": [
        {
          "output_type": "execute_result",
          "data": {
            "text/plain": [
              "'The conversion factor between USD and INR is 86.4882.\\n\\nBased on this, 10 USD is equivalent to 864.882 INR (10 * 86.4882).'"
            ],
            "application/vnd.google.colaboratory.intrinsic+json": {
              "type": "string"
            }
          },
          "metadata": {},
          "execution_count": 131
        }
      ]
    }
  ]
}