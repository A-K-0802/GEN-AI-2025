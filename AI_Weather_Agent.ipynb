{
  "nbformat": 4,
  "nbformat_minor": 0,
  "metadata": {
    "colab": {
      "provenance": [],
      "authorship_tag": "ABX9TyPG3+hIyIeEw+WK7apq+Cv8",
      "include_colab_link": true
    },
    "kernelspec": {
      "name": "python3",
      "display_name": "Python 3"
    },
    "language_info": {
      "name": "python"
    }
  },
  "cells": [
    {
      "cell_type": "markdown",
      "metadata": {
        "id": "view-in-github",
        "colab_type": "text"
      },
      "source": [
        "<a href=\"https://colab.research.google.com/github/A-K-0802/GEN-AI-2025/blob/main/AI_Weather_Agent.ipynb\" target=\"_parent\"><img src=\"https://colab.research.google.com/assets/colab-badge.svg\" alt=\"Open In Colab\"/></a>"
      ]
    },
    {
      "cell_type": "markdown",
      "source": [
        "## Weather AI Agent"
      ],
      "metadata": {
        "id": "vWvOyB-3GUqd"
      }
    },
    {
      "cell_type": "code",
      "execution_count": 7,
      "metadata": {
        "id": "lHrK5M3wDP7l"
      },
      "outputs": [],
      "source": [
        "!pip install -q -U google.genai\n",
        "\n",
        "from google import genai\n",
        "from google.colab import userdata\n",
        "import os\n",
        "\n",
        "client=genai.Client(api_key=userdata.get('GOOGLE_API_KEY'))"
      ]
    },
    {
      "cell_type": "markdown",
      "source": [
        "#### Tools"
      ],
      "metadata": {
        "id": "kCJh71_oGdpn"
      }
    },
    {
      "cell_type": "code",
      "source": [
        "def getweatherdetails(cityname):\n",
        "  if cityname.lower()==\"gandhidham\":\n",
        "    return \"10 Degree Celcius\"\n",
        "  if cityname.lower()==\"anjar\":\n",
        "    return \"14 Degree Celcius\"\n",
        "  if cityname.lower()==\"delhi\":\n",
        "    return \"7 Degree Celcius\"\n",
        "  if cityname.lower()==\"bangalore\":\n",
        "    return \"15 Degree Celcius\"\n",
        "  if cityname.lower()==\"gandhinagar\":\n",
        "    return \"11 Degree Celcius\"\n",
        "\n",
        "def getweatherdetails(cityname):\n",
        "  if cityname.lower()==\"gandhidham\":\n",
        "    return \"10 Degree Celcius\"\n",
        "  if cityname.lower()==\"anjar\":\n",
        "    return \"14 Degree Celcius\"\n",
        "  if cityname.lower()==\"delhi\":\n",
        "    return \"7 Degree Celcius\"\n",
        "  if cityname.lower()==\"bangalore\":\n",
        "    return \"15 Degree Celcius\"\n",
        "  if cityname.lower()==\"gandhinagar\":\n",
        "    return \"11 Degree Celcius\"\n",
        "\n",
        "\n",
        "\n",
        "System_prompt='You are an AI agent with START, ACTION, PLAN, Observation and OUTPUT state. Wait for the user prompt and first PLAN using available tools. After Planning, take action with appropriate tool and wait for the Observation based on Action. Once you get an observation, return the AI response based on the START prompt and Observations.Available tools - function getweatherdetails(cityname:string):string it is a function that accepts cityname as a string and returns a string output. Example: START{\"type\":\"user\",\"user\":\"What is the wearther today in gandhidham\"}{\"type\":\"plan\",\"plan\":\"I will call getweatherdetails for gandhidham\"}{\"type\":\"action\",\"function\":\"getweatherdetails\",\"input\":\"gandhidham\"}{\"type\":\"observation\",\"observation\":\"10 Degree Celcius\"}{\"type\":\"output\",\"output\":\"The weather in gandhidham is 10 Degree Celcius\"}'\n",
        "\n",
        "response=client.models.generate_content(\n",
        "    model=\"gemini-2.0-flash\",\n",
        "    config={\"system_instruction\":System_prompt},\n",
        "    contents=\"What is weather like today in gandhidham\"\n",
        ")\n",
        "\n"
      ],
      "metadata": {
        "colab": {
          "base_uri": "https://localhost:8080/"
        },
        "id": "gkZKnCsmGj19",
        "outputId": "31efad80-afa2-46b9-accd-5c6c1fd9f307"
      },
      "execution_count": 28,
      "outputs": [
        {
          "output_type": "stream",
          "name": "stdout",
          "text": [
            "{\"type\":\"plan\",\"plan\":\"I will use the getweatherdetails tool to find the weather in gandhidham.\",\"tool_calls\":[{\"id\":\"getweatherdetails-7749\",\"type\":\"function\",\"func\":{\"name\":\"getweatherdetails\",\"arguments\":{\"cityname\":\"gandhidham\"}}}]}\n",
            "\n"
          ]
        }
      ]
    }
  ]
}